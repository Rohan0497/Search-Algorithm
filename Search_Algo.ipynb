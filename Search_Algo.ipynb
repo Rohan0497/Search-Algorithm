{
 "cells": [
  {
   "cell_type": "code",
   "execution_count": 1,
   "id": "a15975bc-f404-4152-9633-93bb50a9e00e",
   "metadata": {
    "tags": []
   },
   "outputs": [
    {
     "name": "stdout",
     "output_type": "stream",
     "text": [
      "                      \n"
     ]
    }
   ],
   "source": [
    "from queue import PriorityQueue\n",
    "import pandas as pd\n",
    "import random\n",
    "from collections import defaultdict\n",
    "from hints import closeness\n",
    "import string\n",
    "import random\n",
    "import operator\n",
    "import matplotlib.pyplot as plt\n",
    "df = pd.read_csv(\"tubedata.csv\", header=None)\n",
    "# print(df.head())\n",
    "print('                      ')\n",
    "\n",
    "station_dict = defaultdict(list)\n",
    "# station_dict1 = defaultdict(list)\n",
    "zone_dict = defaultdict(set)\n",
    "# get data row by row\n",
    "all_station_dump = []\n",
    "for index, row in df.iterrows():\n",
    "    # print(row)\n",
    "    start_station = row[0]\n",
    "    end_station = row[1]\n",
    "    act_cost = int(row[3])\n",
    "    zone1 = row[4]\n",
    "    zone2 = row[5]\n",
    "    tube_line = row[2]\n",
    "    all_station_dump.append([start_station,end_station,act_cost])\n",
    "# station dict. of child station tuples (child name, cost from parent to the child)\n",
    "# f\"Mile End\": [(\"Stepney Green\", 2), (\"Wembley\", 1)]\n",
    "    station_list = station_dict[start_station]\n",
    "    station_list.append((end_station, act_cost))\n",
    "    station_list = station_dict[end_station]\n",
    "    station_list.append((start_station, act_cost))\n",
    "    # we add the main zone\n",
    "    zone_dict[start_station].add(zone1)\n",
    "\n",
    "    # print(zone_dict)\n",
    "\n",
    "    # we add the secondary zone\n",
    "    if zone2 != \"0\":\n",
    "        zone_dict[start_station].add(zone2)\n",
    "    # if the secondary zone is not 0 it's the main zone for the ending station\n",
    "        zone_dict[end_station].add(zone2)\n",
    "    else:\n",
    "    # otherwise the main zone for the ending station is the same as the starting station\n",
    "        zone_dict[end_station].add(zone1)\n",
    "    # station_list = station_dict[start_station]\n",
    "    # station_dict111.append(tube_line)\n",
    "# station_dict"
   ]
  },
  {
   "cell_type": "code",
   "execution_count": 4,
   "id": "b50b4795-9212-4371-9c36-04838ca3ac98",
   "metadata": {},
   "outputs": [],
   "source": [
    "# Code in this cell is taken from \"Hands-On Data Structures and Algorithms with Python by Dr. Basant Agarwal, Benjamin Baka\"\n",
    "adjanceny_list = defaultdict(list)\n",
    "for p,q,r in all_station_dump:\n",
    "    adjanceny_list[p].append(q)\n",
    "    adjanceny_list[q].append(p)\n"
   ]
  },
  {
   "cell_type": "markdown",
   "id": "03396da2-4875-4943-bc7a-d384d5a8e761",
   "metadata": {},
   "source": [
    "### BFS"
   ]
  },
  {
   "cell_type": "code",
   "execution_count": 6,
   "id": "5aaf39ba-0365-494a-8708-76b0ac9b8f09",
   "metadata": {
    "tags": []
   },
   "outputs": [],
   "source": [
    "\n",
    "def bfs(data, source, destination, reverse=False):\n",
    "    # Intitialization of nodes\n",
    "    \n",
    "    visited = []\n",
    "    #Intitialization of counter to check number of nodes explored\n",
    "    number_of_visit_counter =0\n",
    "    \n",
    "    #queue is required to keep track of stations\n",
    "    queue = [[source]]\n",
    " \n",
    "    # If source value is equal to the destination then  its done\n",
    "    if source == destination:\n",
    "        return None\n",
    " \n",
    "    while queue:\n",
    "        \n",
    "        path = queue.pop(0)              # popping the 1st station\n",
    "        \n",
    "        node = path[-1]  \n",
    "        # print(node)\n",
    "        \n",
    "        if node not in visited:          # checking if the station is in visited list\n",
    "            neighbours = data[node]\n",
    "            # capping for reverse \n",
    "            if reverse:\n",
    "                neighbours=reversed(neighbours)\n",
    "            \n",
    "            \n",
    "            for i in neighbours:         #checking neighbors\n",
    "                final_route = list(path)\n",
    "                \n",
    "                final_route.append(i)\n",
    "                \n",
    "                queue.append(final_route)   #adding the neighboring station in queue for exploration\n",
    "                \n",
    "                if i == destination:      \n",
    "                    return final_route,number_of_visit_counter    \n",
    " \n",
    "            \n",
    "            visited.append(node)         #putting station in visited as it is not found in the visited list\n",
    "                \n",
    "        number_of_visit_counter+=1\n",
    "    # if we i is not equal to destination and the queue became empty it will return no path found \n",
    "    return 'No Path Found'\n",
    " \n",
    "\n",
    "show_path_for_bfs1,bfs_visited1 = bfs(adjanceny_list, 'Euston', 'Victoria', reverse=False) \n",
    "show_path_for_bfs2,bfs_visited2 = bfs(adjanceny_list, 'Canada Water', 'Stratford', reverse=False)\n",
    "show_path_for_bfs3,bfs_visited3 = bfs(adjanceny_list, 'New Cross Gate', 'Stepney Green', reverse=False)\n",
    "show_path_for_bfs4,bfs_visited4 = bfs(adjanceny_list, 'Ealing Broadway', 'South Kensington',reverse=False)\n",
    "show_path_for_bfs5,bfs_visited5 = bfs(adjanceny_list, 'Baker Street', 'Wembley Park',reverse=False) "
   ]
  },
  {
   "cell_type": "markdown",
   "id": "4bb8e027-6ff9-48b2-9915-c6976af53f36",
   "metadata": {},
   "source": [
    "### DFS"
   ]
  },
  {
   "cell_type": "code",
   "execution_count": 8,
   "id": "2ffda6e6-be1f-4b0d-adba-b7ee87df705a",
   "metadata": {},
   "outputs": [],
   "source": [
    "#Dfs\n",
    "\n",
    "def dfs(data, source, destination, reverse=False):\n",
    "   # Intitialization of nodes\n",
    "\n",
    "    visited = []\n",
    "    \n",
    "    #Intitialization of counter to check number of nodes explored\n",
    "    \n",
    "    number_of_visit_counter =0\n",
    "    \n",
    "    #queue is required to keep track of stations\n",
    "    queue = [[source]]\n",
    " \n",
    "    \n",
    "    if source == destination:\n",
    "        return None\n",
    " \n",
    "    \n",
    "    while queue:\n",
    "        \n",
    "        path = queue.pop()\n",
    "        \n",
    "        node = path[-1]\n",
    "        if node not in visited:\n",
    "            neighbours = data[node]\n",
    "            if reverse:\n",
    "                neighbours=reversed(neighbours)\n",
    "            \n",
    "            for i in neighbours:\n",
    "                # print('neighbour: ' +str(neighbour))\n",
    "                # number_of_visit_counter+=1\n",
    "                final_route = list(path)\n",
    "                final_route.append(i)\n",
    "                queue.append(final_route)\n",
    "                \n",
    "                # queue.append(final_route)\n",
    "                \n",
    "                \n",
    "                \n",
    "                if i == destination:\n",
    "                    \n",
    "                    # print(queue)\n",
    "                    \n",
    "                    return final_route,number_of_visit_counter\n",
    " \n",
    "            \n",
    "            visited.append(node)\n",
    "        number_of_visit_counter+=1\n",
    "    \n",
    "    return 'No path found'\n",
    "    \n",
    " \n",
    "\n",
    "\n",
    "# print('Number of the nodes explored:  ',len(show_path_for_dfs),'\\n')\n",
    "\n",
    "show_path_for_dfs1,dfs_visited1 = dfs(adjanceny_list, 'Euston', 'Victoria',reverse=False) \n",
    "show_path_for_dfs2,dfs_visited2 = dfs(adjanceny_list, 'Canada Water', 'Stratford',reverse=False) \n",
    "show_path_for_dfs3,dfs_visited3 = dfs(adjanceny_list, 'New Cross Gate', 'Stepney Green',reverse=False) \n",
    "show_path_for_dfs4,dfs_visited4 = dfs(adjanceny_list, 'Ealing Broadway', 'South Kensington',reverse=True) \n",
    "show_path_for_dfs5,dfs_visited5 = dfs(adjanceny_list, 'Baker Street', 'Wembley Park',reverse=False) "
   ]
  },
  {
   "cell_type": "markdown",
   "id": "7067c7b3-4729-4362-837a-4c4d1a555672",
   "metadata": {},
   "source": [
    "### UCS"
   ]
  },
  {
   "cell_type": "code",
   "execution_count": 9,
   "id": "a82f547d-3cac-4c91-9730-8d78b351cad2",
   "metadata": {},
   "outputs": [],
   "source": [
    "def UCS(data, source, destination, reverse=False):\n",
    "    # we keep visited as a set so that we don't fall in loops \n",
    "    visited = set()\n",
    "    expanded=[]\n",
    "    # \\here we use priority queue \n",
    "    queue = PriorityQueue()\n",
    "    queue.put((0, [source]))\n",
    "\n",
    "    while queue:\n",
    "        # print(queue.get())\n",
    "        cost, path = queue.get()\n",
    "        \n",
    "        node = path[-1]\n",
    "        # print('node: ',node)\n",
    "        # print('path: ',path)\n",
    "        # type(path)\n",
    "        \n",
    "        if node not in visited:\n",
    "            # Applying reverse \n",
    "            if reverse:\n",
    "                reversed(neighbours)\n",
    "            \n",
    "            visited.add(node)\n",
    "            expanded.append(node)\n",
    "            # print('expanded: ',expanded)\n",
    "            # print(path)\n",
    "            # \\if the value of nodes matches then we have find the one \n",
    "            if node == destination:\n",
    "                \n",
    "                return path, expanded\n",
    "\n",
    "            neighbours = data[node]\n",
    "            \n",
    "            # print(neighbours)\n",
    "            \n",
    "            for look in neighbours:\n",
    "                # print(i[0],'i')\n",
    "                if look[0] not in visited:\n",
    "                    total_cost = cost + look[1]\n",
    "                    queue.put((total_cost, path+[look[0]]))\n",
    "                    \n",
    "show_path_for_ucs1,ucs_visited1 = UCS(station_dict, 'Euston', 'Victoria', reverse=False) \n",
    "show_path_for_ucs2,ucs_visited2 = UCS(station_dict, 'Canada Water', 'Stratford', reverse=False) \n",
    "show_path_for_ucs3,ucs_visited3 = UCS(station_dict, 'New Cross Gate', 'Stepney Green', reverse=False) \n",
    "show_path_for_ucs4,ucs_visited4 = UCS(station_dict, 'Ealing Broadway', 'South Kensington', reverse=False) \n",
    "show_path_for_ucs5,ucs_visited5 = UCS(station_dict, 'Baker Street', 'Wembley Park', reverse=False) "
   ]
  },
  {
   "cell_type": "markdown",
   "id": "e71392c9-f326-4984-96ce-5da1389cadc3",
   "metadata": {},
   "source": [
    "### Cost Function"
   ]
  },
  {
   "cell_type": "code",
   "execution_count": 10,
   "id": "883c0c60-4690-4926-b25f-05daebe51f5b",
   "metadata": {},
   "outputs": [],
   "source": [
    "# compute_path_cost (bfs_shortest_path(adjanceny_list, 'Kenton', 'Victoria'))\n",
    "def compute_path_cost(path):\n",
    "    cost = 0\n",
    "    for i in range(len(path)-1):\n",
    "        a = ((path[i],path[i+1]))\n",
    "\n",
    "        for count, value in enumerate(all_station_dump):\n",
    "            #print(value[:2])\n",
    "            if list(a) == value[:2]:\n",
    "                cost = cost + int(value[-1])\n",
    "    return cost\n",
    "# compute_path_cost(show_path_for_dfs)"
   ]
  },
  {
   "cell_type": "markdown",
   "id": "20a97c99-9e8d-4a3a-aa81-e92bb5ee050c",
   "metadata": {},
   "source": [
    "#### Outputs for BFS"
   ]
  },
  {
   "cell_type": "code",
   "execution_count": 11,
   "id": "6b4c26df-a5e1-4a42-a463-1cf090c78062",
   "metadata": {},
   "outputs": [
    {
     "name": "stdout",
     "output_type": "stream",
     "text": [
      "1. Number of nodes visited for Euston to Victoria: 34\n",
      "   Time taken: 8\n",
      "   Path chosen ----> ['Euston', 'Warren Street', 'Oxford Circus', 'Green Park', 'Victoria']\n",
      "2. Number of  nodes visited for Canada Water to Stratford: 40\n",
      "   Time taken: 15\n",
      "   Path chosen ----> ['Canada Water', 'Canary Wharf', 'North Greenwich', 'Canning Town', 'West Ham', 'Stratford']\n",
      "3. Number of nodes visited for New Cross Gate to Stepney Green: 24\n",
      "   Time taken: 6\n",
      "   Path chosen ----> ['New Cross Gate', 'Surrey Quays', 'Canada Water', 'Rotherhithe', 'Wapping', 'Shadwell', 'Whitechapel', 'Stepney Green']\n",
      "4. Number of nodes visited for Ealing Broadway to South Kensington: 90\n",
      "   Time taken: 12\n",
      "   Path chosen ----> ['Ealing Broadway', 'Ealing Common', 'Acton Town', 'Turnham Green', 'Hammersmith', 'Barons Court', \"Earls' Court\", 'Gloucester Road', 'South Kensington']\n",
      "5. Number of nodes visited for Baker Street to Wembley Park: 10\n",
      "   Time taken: 13\n",
      "   Path chosen ----> ['Baker Street', 'Finchley Road', 'Wembley Park']\n"
     ]
    }
   ],
   "source": [
    "print('1. Number of nodes visited for Euston to Victoria: {}\\n   Time taken: {}'.format (bfs_visited1,compute_path_cost(show_path_for_bfs1)))\n",
    "print('   Path chosen ---->',show_path_for_bfs1)\n",
    "print('2. Number of  nodes visited for Canada Water to Stratford: {}\\n   Time taken: {}'.format (bfs_visited2,compute_path_cost(show_path_for_bfs2)))\n",
    "print('   Path chosen ---->',show_path_for_bfs2)\n",
    "print('3. Number of nodes visited for New Cross Gate to Stepney Green: {}\\n   Time taken: {}'.format (bfs_visited3,compute_path_cost(show_path_for_bfs3)))\n",
    "print('   Path chosen ---->',show_path_for_bfs3)\n",
    "print('4. Number of nodes visited for Ealing Broadway to South Kensington: {}\\n   Time taken: {}'.format (bfs_visited4,compute_path_cost(show_path_for_bfs4)))\n",
    "print('   Path chosen ---->',show_path_for_bfs4)\n",
    "print('5. Number of nodes visited for Baker Street to Wembley Park: {}\\n   Time taken: {}'.format (bfs_visited5,compute_path_cost(show_path_for_bfs5)))\n",
    "print('   Path chosen ---->',show_path_for_bfs5)"
   ]
  },
  {
   "cell_type": "markdown",
   "id": "41bc4a93-4b62-4465-8bc0-a709dd3303c8",
   "metadata": {},
   "source": [
    "#### Output for DFS"
   ]
  },
  {
   "cell_type": "code",
   "execution_count": 12,
   "id": "c821b17f-ca07-4f71-88ef-f59254898314",
   "metadata": {},
   "outputs": [
    {
     "name": "stdout",
     "output_type": "stream",
     "text": [
      "1. Number of nodes visited for Euston to Victoria: 3\n",
      "   Time taken: 8\n",
      "   Path chosen ----> ['Euston', 'Warren Street', 'Oxford Circus', 'Green Park', 'Victoria']\n",
      "2. Number of  nodes visited for Canada Water to Stratford: 4\n",
      "   Time taken: 15\n",
      "   Path chosen ----> ['Canada Water', 'Canary Wharf', 'North Greenwich', 'Canning Town', 'West Ham', 'Stratford']\n",
      "3. Number of nodes visited for New Cross Gate to Stepney Green: 54\n",
      "   Time taken: 15\n",
      "   Path chosen ----> ['New Cross Gate', 'Surrey Quays', 'Canada Water', 'Canary Wharf', 'North Greenwich', 'Canning Town', 'West Ham', 'Stratford', 'Mile End', 'Stepney Green']\n",
      "4. Number of nodes visited for Ealing Broadway to South Kensington: 373\n",
      "   Time taken: 85\n",
      "   Path chosen ----> ['Ealing Broadway', 'West Acton', 'North Acton', 'East Acton', 'White City', \"Shepherd's Bush\", 'Holland Park', 'Notting Hill Gate', 'Queensway', 'Lancaster Gate', 'Marble Arch', 'Bond Street', 'Oxford Circus', \"Regent's Park\", 'Baker Street', 'Great Portland Street', 'Euston Square', \"King's Cross St. Pancras\", 'Farringdon', 'Barbican', 'Moorgate', 'Liverpool Street', 'Bank/Monument', \"St. Paul's\", 'Chancery Lane', 'Holborn', 'Tottenham Court Road', 'Leicester Square', 'Charing Cross', 'Piccadilly Circus', 'Green Park', 'Westminster', 'Embankment', 'Waterloo', 'Lambeth North', 'Elephant & Castle', 'Kennington', 'Oval', 'Stockwell', 'Vauxhall', 'Pimlico', 'Victoria', 'Sloane Square', 'South Kensington']\n",
      "5. Number of nodes visited for Baker Street to Wembley Park: 1\n",
      "   Time taken: 13\n",
      "   Path chosen ----> ['Baker Street', 'Finchley Road', 'Wembley Park']\n"
     ]
    }
   ],
   "source": [
    "print('1. Number of nodes visited for Euston to Victoria: {}\\n   Time taken: {}'.format (dfs_visited1,compute_path_cost(show_path_for_dfs1)))\n",
    "print('   Path chosen ---->',show_path_for_dfs1)\n",
    "print('2. Number of  nodes visited for Canada Water to Stratford: {}\\n   Time taken: {}'.format (dfs_visited2,compute_path_cost(show_path_for_dfs2)))\n",
    "print('   Path chosen ---->',show_path_for_dfs2)\n",
    "print('3. Number of nodes visited for New Cross Gate to Stepney Green: {}\\n   Time taken: {}'.format (dfs_visited3,compute_path_cost(show_path_for_dfs3)))\n",
    "print('   Path chosen ---->',show_path_for_dfs3)\n",
    "print('4. Number of nodes visited for Ealing Broadway to South Kensington: {}\\n   Time taken: {}'.format (dfs_visited4,compute_path_cost(show_path_for_dfs4)))\n",
    "print('   Path chosen ---->',show_path_for_dfs4)\n",
    "print('5. Number of nodes visited for Baker Street to Wembley Park: {}\\n   Time taken: {}'.format (dfs_visited5,compute_path_cost(show_path_for_dfs5)))\n",
    "print('   Path chosen ---->',show_path_for_dfs5)"
   ]
  },
  {
   "cell_type": "markdown",
   "id": "a2a2cd50-e8a0-41b3-a609-1c900babd9f8",
   "metadata": {},
   "source": [
    "#### Output for UCS"
   ]
  },
  {
   "cell_type": "code",
   "execution_count": 13,
   "id": "ac31ca8b-eda2-43e5-844d-1bb920922981",
   "metadata": {},
   "outputs": [
    {
     "name": "stdout",
     "output_type": "stream",
     "text": [
      "1. Number of nodes visited for Euston to Victoria: 35\n",
      "   Time taken: 8\n",
      "   Path chosen ----> ['Euston', 'Warren Street', 'Oxford Circus', 'Green Park', 'Victoria']\n",
      "2. Number of  nodes visited for Canada Water to Stratford: 57\n",
      "   Time taken: 14\n",
      "   Path chosen ----> ['Canada Water', 'Rotherhithe', 'Wapping', 'Shadwell', 'Whitechapel', 'Stepney Green', 'Mile End', 'Stratford']\n",
      "3. Number of nodes visited for New Cross Gate to Stepney Green: 20\n",
      "   Time taken: 6\n",
      "   Path chosen ----> ['New Cross Gate', 'Surrey Quays', 'Canada Water', 'Rotherhithe', 'Wapping', 'Shadwell', 'Whitechapel', 'Stepney Green']\n",
      "4. Number of nodes visited for Ealing Broadway to South Kensington: 44\n",
      "   Time taken: 12\n",
      "   Path chosen ----> ['Ealing Broadway', 'Ealing Common', 'Acton Town', 'Turnham Green', 'Hammersmith', 'Barons Court', \"Earls' Court\", 'Gloucester Road', 'South Kensington']\n",
      "5. Number of nodes visited for Baker Street to Wembley Park: 82\n",
      "   Time taken: 13\n",
      "   Path chosen ----> ['Baker Street', 'Finchley Road', 'Wembley Park']\n"
     ]
    }
   ],
   "source": [
    "print('1. Number of nodes visited for Euston to Victoria: {}\\n   Time taken: {}'.format (len(ucs_visited1),compute_path_cost(show_path_for_ucs1)))\n",
    "print('   Path chosen ---->',show_path_for_ucs1)\n",
    "print('2. Number of  nodes visited for Canada Water to Stratford: {}\\n   Time taken: {}'.format (len(ucs_visited2),compute_path_cost(show_path_for_ucs2)))\n",
    "print('   Path chosen ---->',show_path_for_ucs2)\n",
    "print('3. Number of nodes visited for New Cross Gate to Stepney Green: {}\\n   Time taken: {}'.format (len(ucs_visited3),compute_path_cost(show_path_for_ucs3)))\n",
    "print('   Path chosen ---->',show_path_for_ucs3)\n",
    "print('4. Number of nodes visited for Ealing Broadway to South Kensington: {}\\n   Time taken: {}'.format (len(ucs_visited4),compute_path_cost(show_path_for_ucs4)))\n",
    "print('   Path chosen ---->',show_path_for_ucs4)\n",
    "print('5. Number of nodes visited for Baker Street to Wembley Park: {}\\n   Time taken: {}'.format (len(ucs_visited5),compute_path_cost(show_path_for_ucs5)))\n",
    "print('   Path chosen ---->',show_path_for_ucs5)"
   ]
  }
 ],
 "metadata": {
  "kernelspec": {
   "display_name": "Python 3 (ipykernel)",
   "language": "python",
   "name": "python3"
  },
  "language_info": {
   "codemirror_mode": {
    "name": "ipython",
    "version": 3
   },
   "file_extension": ".py",
   "mimetype": "text/x-python",
   "name": "python",
   "nbconvert_exporter": "python",
   "pygments_lexer": "ipython3",
   "version": "3.10.6"
  }
 },
 "nbformat": 4,
 "nbformat_minor": 5
}
